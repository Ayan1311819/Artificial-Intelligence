{
  "nbformat": 4,
  "nbformat_minor": 0,
  "metadata": {
    "colab": {
      "provenance": [],
      "authorship_tag": "ABX9TyN63AJNYLOwcn4K0z8vw0kb",
      "include_colab_link": true
    },
    "kernelspec": {
      "name": "python3",
      "display_name": "Python 3"
    },
    "language_info": {
      "name": "python"
    }
  },
  "cells": [
    {
      "cell_type": "markdown",
      "metadata": {
        "id": "view-in-github",
        "colab_type": "text"
      },
      "source": [
        "<a href=\"https://colab.research.google.com/github/Ayan1311819/Artificial-Intelligence/blob/main/Search/Informed%20Search/A*%20star%20search\" target=\"_parent\"><img src=\"https://colab.research.google.com/assets/colab-badge.svg\" alt=\"Open In Colab\"/></a>"
      ]
    },
    {
      "cell_type": "code",
      "execution_count": 28,
      "metadata": {
        "id": "b_BgxGzwl5mf"
      },
      "outputs": [],
      "source": [
        "import matplotlib.pyplot as plt\n",
        "import math\n"
      ]
    },
    {
      "cell_type": "code",
      "source": [],
      "metadata": {
        "id": "VAYSJAR8oPE6"
      },
      "execution_count": null,
      "outputs": []
    },
    { 
      "cell_type": "code",
      "source": [
        "\n",
        "coordinates = {\n",
        "    \"A\": (0, 0),\n",
        "    \"B\": (5,3),\n",
        "    \"C\": (0,1),\n",
        "    \"D\": (2,3),\n",
        "    \"E\": (0,8)\n",
        "}\n",
        "class Graph:\n",
        "    def __init__(self):\n",
        "        self.graph = {}\n",
        "\n",
        "    def add_edge(self, u, v, weight):\n",
        "        if u not in self.graph:\n",
        "            self.graph[u] = []\n",
        "        self.graph[u].append((v, weight))\n",
        "\n",
        "    def get_neighbors(self, u):\n",
        "        return [v for v, _ in self.graph.get(u, [])]\n",
        "\n",
        "    def euclidean_dist(self, P1,P2):\n",
        "        x1,y1=P1\n",
        "        x2,y2=P2\n",
        "        distance = math.sqrt((x2 - x1) ** 2 + (y2 - y1) ** 2)\n",
        "        return distance\n",
        "    def heuristic(self, current_node): #staright line distance heuristic\n",
        "        ED=[]\n",
        "        for neighbor, weight in self.graph.get(current_node, []):\n",
        "            P1=coordinates[\"D\"]\n",
        "            P2=coordinates[neighbor]\n",
        "            ED.append(self.euclidean_dist(P1,P2))\n",
        "        return ED\n",
        "\n",
        "    def Astar(self, start_node, goal):\n",
        "        frontier = [(start_node,0)]\n",
        "        explored = set()\n",
        "\n",
        "        while frontier:\n",
        "            i=0\n",
        "            current_node, current_cost = frontier.pop(0)\n",
        "            if current_node == goal:\n",
        "                print(current_node)\n",
        "                return True\n",
        "\n",
        "            if current_node not in explored:\n",
        "                explored.add(current_node)\n",
        "                print(current_node,end=\"-->\")\n",
        "\n",
        "                for neighbor, weight in self.graph.get(current_node, []):\n",
        "                    estimated_cost = self.heuristic(current_node)[i] + weight + current_cost\n",
        "                    i=i+1\n",
        "                    if neighbor not in explored:\n",
        "                        frontier.append((neighbor,estimated_cost))\n",
        "                        frontier.sort(key=lambda x: x[1])\n",
        "        print(\"Goal not found\")\n",
        "\n",
        "# Example usage:\n",
        "if __name__ == \"__main__\":\n",
        "    g = Graph()\n",
        "    g.add_edge(\"A\", \"B\", 5)\n",
        "    g.add_edge(\"A\", \"C\", 7)\n",
        "    g.add_edge(\"A\", \"E\", 20)\n",
        "    g.add_edge(\"B\", \"C\", 1)\n",
        "    g.add_edge(\"C\", \"D\", 6)\n",
        "    print(\"| A star Search Traversal |\")\n",
        "    start_node = \"A\"\n",
        "    goal_node = \"D\"\n",
        "    g.Astar(start_node, goal_node)"
      ],
      "metadata": {
        "colab": {
          "base_uri": "https://localhost:8080/"
        },
        "id": "mPtU05J2L2Xa",
        "outputId": "94583d88-0297-4af8-aea9-a964e927b426"
      },
      "execution_count": 29,
      "outputs": [
        {
          "output_type": "stream",
          "name": "stdout",
          "text": [
            "| A star Search Traversal |\n",
            "A-->B-->C-->D\n"
          ]
        }
      ]
    },
    {
      "cell_type": "code",
      "source": [],
      "metadata": {
        "id": "UBC-pXS3pXC0"
      },
      "execution_count": null,
      "outputs": []
    },
    {
      "cell_type": "code",
      "source": [],
      "metadata": {
        "id": "ScmEpW-v5ocR"
      },
      "execution_count": null,
      "outputs": []
    }
  ]
}
